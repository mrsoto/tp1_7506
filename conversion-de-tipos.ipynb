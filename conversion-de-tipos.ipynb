{
 "cells": [
  {
   "cell_type": "markdown",
   "metadata": {},
   "source": [
    "# Entendiendo los datos"
   ]
  },
  {
   "cell_type": "code",
   "execution_count": 2,
   "metadata": {},
   "outputs": [],
   "source": [
    "import pandas as pd\n",
    "import numpy as np"
   ]
  },
  {
   "cell_type": "markdown",
   "metadata": {},
   "source": [
    "## Estructura del Dataframe"
   ]
  },
  {
   "cell_type": "code",
   "execution_count": 3,
   "metadata": {},
   "outputs": [],
   "source": [
    "df = pd.read_csv('data/train.csv')"
   ]
  },
  {
   "cell_type": "code",
   "execution_count": 4,
   "metadata": {},
   "outputs": [
    {
     "data": {
      "text/plain": [
       "(240000, 23)"
      ]
     },
     "execution_count": 4,
     "metadata": {},
     "output_type": "execute_result"
    }
   ],
   "source": [
    "df.shape"
   ]
  },
  {
   "cell_type": "code",
   "execution_count": 5,
   "metadata": {},
   "outputs": [
    {
     "data": {
      "text/plain": [
       "id                              int64\n",
       "titulo                         object\n",
       "descripcion                    object\n",
       "tipodepropiedad                object\n",
       "direccion                      object\n",
       "ciudad                         object\n",
       "provincia                      object\n",
       "antiguedad                    float64\n",
       "habitaciones                  float64\n",
       "garages                       float64\n",
       "banos                         float64\n",
       "metroscubiertos               float64\n",
       "metrostotales                 float64\n",
       "idzona                        float64\n",
       "lat                           float64\n",
       "lng                           float64\n",
       "fecha                          object\n",
       "gimnasio                      float64\n",
       "usosmultiples                 float64\n",
       "piscina                       float64\n",
       "escuelascercanas              float64\n",
       "centroscomercialescercanos    float64\n",
       "precio                        float64\n",
       "dtype: object"
      ]
     },
     "execution_count": 5,
     "metadata": {},
     "output_type": "execute_result"
    }
   ],
   "source": [
    "df.dtypes"
   ]
  },
  {
   "cell_type": "code",
   "execution_count": 6,
   "metadata": {},
   "outputs": [
    {
     "data": {
      "text/plain": [
       "Index                              80\n",
       "id                            1920000\n",
       "titulo                        1920000\n",
       "descripcion                   1920000\n",
       "tipodepropiedad               1920000\n",
       "direccion                     1920000\n",
       "ciudad                        1920000\n",
       "provincia                     1920000\n",
       "antiguedad                    1920000\n",
       "habitaciones                  1920000\n",
       "garages                       1920000\n",
       "banos                         1920000\n",
       "metroscubiertos               1920000\n",
       "metrostotales                 1920000\n",
       "idzona                        1920000\n",
       "lat                           1920000\n",
       "lng                           1920000\n",
       "fecha                         1920000\n",
       "gimnasio                      1920000\n",
       "usosmultiples                 1920000\n",
       "piscina                       1920000\n",
       "escuelascercanas              1920000\n",
       "centroscomercialescercanos    1920000\n",
       "precio                        1920000\n",
       "dtype: int64"
      ]
     },
     "execution_count": 6,
     "metadata": {},
     "output_type": "execute_result"
    }
   ],
   "source": [
    "df.memory_usage()"
   ]
  },
  {
   "cell_type": "code",
   "execution_count": 7,
   "metadata": {},
   "outputs": [
    {
     "data": {
      "text/html": [
       "<div>\n",
       "<style scoped>\n",
       "    .dataframe tbody tr th:only-of-type {\n",
       "        vertical-align: middle;\n",
       "    }\n",
       "\n",
       "    .dataframe tbody tr th {\n",
       "        vertical-align: top;\n",
       "    }\n",
       "\n",
       "    .dataframe thead th {\n",
       "        text-align: right;\n",
       "    }\n",
       "</style>\n",
       "<table border=\"1\" class=\"dataframe\">\n",
       "  <thead>\n",
       "    <tr style=\"text-align: right;\">\n",
       "      <th></th>\n",
       "      <th>id</th>\n",
       "      <th>titulo</th>\n",
       "      <th>descripcion</th>\n",
       "      <th>tipodepropiedad</th>\n",
       "      <th>direccion</th>\n",
       "      <th>ciudad</th>\n",
       "      <th>provincia</th>\n",
       "      <th>antiguedad</th>\n",
       "      <th>habitaciones</th>\n",
       "      <th>garages</th>\n",
       "      <th>...</th>\n",
       "      <th>idzona</th>\n",
       "      <th>lat</th>\n",
       "      <th>lng</th>\n",
       "      <th>fecha</th>\n",
       "      <th>gimnasio</th>\n",
       "      <th>usosmultiples</th>\n",
       "      <th>piscina</th>\n",
       "      <th>escuelascercanas</th>\n",
       "      <th>centroscomercialescercanos</th>\n",
       "      <th>precio</th>\n",
       "    </tr>\n",
       "  </thead>\n",
       "  <tbody>\n",
       "    <tr>\n",
       "      <th>0</th>\n",
       "      <td>254099</td>\n",
       "      <td>depto. tipo a-402</td>\n",
       "      <td>depto. interior de 80.15m2, consta de sala com...</td>\n",
       "      <td>Apartamento</td>\n",
       "      <td>Avenida Division del Norte 2005</td>\n",
       "      <td>Benito Juárez</td>\n",
       "      <td>Distrito Federal</td>\n",
       "      <td>NaN</td>\n",
       "      <td>2.0</td>\n",
       "      <td>1.0</td>\n",
       "      <td>...</td>\n",
       "      <td>23533.0</td>\n",
       "      <td>NaN</td>\n",
       "      <td>NaN</td>\n",
       "      <td>2015-08-23 00:00:00</td>\n",
       "      <td>0.0</td>\n",
       "      <td>0.0</td>\n",
       "      <td>0.0</td>\n",
       "      <td>0.0</td>\n",
       "      <td>0.0</td>\n",
       "      <td>2273000.0</td>\n",
       "    </tr>\n",
       "    <tr>\n",
       "      <th>1</th>\n",
       "      <td>53461</td>\n",
       "      <td>condominio horizontal en venta</td>\n",
       "      <td>&lt;p&gt;entre sonora y guerrero, atr&amp;aacute;s del h...</td>\n",
       "      <td>Casa en condominio</td>\n",
       "      <td>AV. MEXICO</td>\n",
       "      <td>La Magdalena Contreras</td>\n",
       "      <td>Distrito Federal</td>\n",
       "      <td>10.0</td>\n",
       "      <td>3.0</td>\n",
       "      <td>2.0</td>\n",
       "      <td>...</td>\n",
       "      <td>24514.0</td>\n",
       "      <td>19.310205</td>\n",
       "      <td>-99.227655</td>\n",
       "      <td>2013-06-28 00:00:00</td>\n",
       "      <td>0.0</td>\n",
       "      <td>0.0</td>\n",
       "      <td>0.0</td>\n",
       "      <td>1.0</td>\n",
       "      <td>1.0</td>\n",
       "      <td>3600000.0</td>\n",
       "    </tr>\n",
       "  </tbody>\n",
       "</table>\n",
       "<p>2 rows × 23 columns</p>\n",
       "</div>"
      ],
      "text/plain": [
       "       id                          titulo  \\\n",
       "0  254099               depto. tipo a-402   \n",
       "1   53461  condominio horizontal en venta   \n",
       "\n",
       "                                         descripcion     tipodepropiedad  \\\n",
       "0  depto. interior de 80.15m2, consta de sala com...         Apartamento   \n",
       "1  <p>entre sonora y guerrero, atr&aacute;s del h...  Casa en condominio   \n",
       "\n",
       "                         direccion                  ciudad         provincia  \\\n",
       "0  Avenida Division del Norte 2005           Benito Juárez  Distrito Federal   \n",
       "1                       AV. MEXICO  La Magdalena Contreras  Distrito Federal   \n",
       "\n",
       "   antiguedad  habitaciones  garages  ...   idzona        lat        lng  \\\n",
       "0         NaN           2.0      1.0  ...  23533.0        NaN        NaN   \n",
       "1        10.0           3.0      2.0  ...  24514.0  19.310205 -99.227655   \n",
       "\n",
       "                 fecha  gimnasio  usosmultiples piscina  escuelascercanas  \\\n",
       "0  2015-08-23 00:00:00       0.0            0.0     0.0               0.0   \n",
       "1  2013-06-28 00:00:00       0.0            0.0     0.0               1.0   \n",
       "\n",
       "   centroscomercialescercanos     precio  \n",
       "0                         0.0  2273000.0  \n",
       "1                         1.0  3600000.0  \n",
       "\n",
       "[2 rows x 23 columns]"
      ]
     },
     "execution_count": 7,
     "metadata": {},
     "output_type": "execute_result"
    }
   ],
   "source": [
    "df.head(2)"
   ]
  },
  {
   "cell_type": "markdown",
   "metadata": {},
   "source": [
    "## Cambio de tipos a tipos más convenientes"
   ]
  },
  {
   "cell_type": "markdown",
   "metadata": {},
   "source": [
    "* Conversión de booleanos, categorias y strings"
   ]
  },
  {
   "cell_type": "code",
   "execution_count": 15,
   "metadata": {},
   "outputs": [],
   "source": [
    "df.fillna({'habitaciones':0, 'garages': 0, 'banos':0}, inplace=True)\n",
    "df.astype({\n",
    "    'gimnasio': bool,\n",
    "    'usosmultiples': bool,\n",
    "    'piscina': bool,\n",
    "    'escuelascercanas': bool,\n",
    "    'centroscomercialescercanos': bool,\n",
    "    'tipodepropiedad': 'category',\n",
    "    'ciudad': 'category',\n",
    "    'provincia': 'category',\n",
    "    'habitaciones': 'int32',\n",
    "    'garages': 'int32',\n",
    "    'banos': 'int32'\n",
    "}, inplace=True)\n",
    "None"
   ]
  },
  {
   "cell_type": "code",
   "execution_count": 16,
   "metadata": {},
   "outputs": [],
   "source": [
    "# conversion de idzona de float a string sin decimales\n",
    "\n",
    "df.idzona = df.idzona.apply(\"{:10.0f}\".format)"
   ]
  },
  {
   "cell_type": "code",
   "execution_count": 17,
   "metadata": {},
   "outputs": [
    {
     "data": {
      "text/plain": [
       "id                               int64\n",
       "titulo                          object\n",
       "descripcion                     object\n",
       "tipodepropiedad               category\n",
       "direccion                       object\n",
       "ciudad                        category\n",
       "provincia                     category\n",
       "antiguedad                     float64\n",
       "habitaciones                     int32\n",
       "garages                          int32\n",
       "banos                            int32\n",
       "metroscubiertos                float64\n",
       "metrostotales                  float64\n",
       "idzona                          object\n",
       "lat                            float64\n",
       "lng                            float64\n",
       "fecha                           object\n",
       "gimnasio                          bool\n",
       "usosmultiples                     bool\n",
       "piscina                           bool\n",
       "escuelascercanas                  bool\n",
       "centroscomercialescercanos        bool\n",
       "precio                         float64\n",
       "dtype: object"
      ]
     },
     "execution_count": 17,
     "metadata": {},
     "output_type": "execute_result"
    }
   ],
   "source": [
    "df.dtypes"
   ]
  },
  {
   "cell_type": "markdown",
   "metadata": {},
   "source": [
    "* Existen valores numéricos que contienen *nan* o *infinito* por lo que al pasar a int se producen errores. Se preservaran en float64 para soportar estas condiciones\n"
   ]
  },
  {
   "cell_type": "code",
   "execution_count": 28,
   "metadata": {},
   "outputs": [
    {
     "data": {
      "text/plain": [
       "array([nan, 10.,  5.,  1.,  2.,  0., 20.,  4.,  8.,  3., 18., 16.,  6.,\n",
       "       50., 30., 26., 25., 28., 15., 12., 48., 22., 11., 60., 17., 33.,\n",
       "       35., 14., 40.,  7.,  9., 27., 24., 19., 34., 13., 37., 36., 65.,\n",
       "       31., 21., 23., 45., 32., 51., 29., 42., 43., 49., 70., 44., 46.,\n",
       "       39., 38., 47., 63., 55., 52., 41., 80., 59., 67., 54., 71., 58.,\n",
       "       75., 53., 61., 79., 69., 56., 66., 57., 62., 64., 74., 77., 76.,\n",
       "       68.])"
      ]
     },
     "execution_count": 28,
     "metadata": {},
     "output_type": "execute_result"
    }
   ],
   "source": [
    "df['antiguedad'].unique()"
   ]
  },
  {
   "cell_type": "code",
   "execution_count": 26,
   "metadata": {},
   "outputs": [],
   "source": [
    "df.to_pickle(\"data/propiedades.pkl\")"
   ]
  },
  {
   "cell_type": "code",
   "execution_count": 20,
   "metadata": {},
   "outputs": [
    {
     "data": {
      "text/plain": [
       "id                               int64\n",
       "titulo                          object\n",
       "descripcion                     object\n",
       "tipodepropiedad               category\n",
       "direccion                       object\n",
       "ciudad                        category\n",
       "provincia                     category\n",
       "antiguedad                     float64\n",
       "habitaciones                     int32\n",
       "garages                          int32\n",
       "banos                            int32\n",
       "metroscubiertos                float64\n",
       "metrostotales                  float64\n",
       "idzona                          object\n",
       "lat                            float64\n",
       "lng                            float64\n",
       "fecha                           object\n",
       "gimnasio                          bool\n",
       "usosmultiples                     bool\n",
       "piscina                           bool\n",
       "escuelascercanas                  bool\n",
       "centroscomercialescercanos        bool\n",
       "precio                         float64\n",
       "dtype: object"
      ]
     },
     "execution_count": 20,
     "metadata": {},
     "output_type": "execute_result"
    }
   ],
   "source": [
    "df.dtypes"
   ]
  },
  {
   "cell_type": "code",
   "execution_count": 21,
   "metadata": {},
   "outputs": [
    {
     "data": {
      "text/plain": [
       "Index                              80\n",
       "id                            1920000\n",
       "titulo                        1920000\n",
       "descripcion                   1920000\n",
       "tipodepropiedad                240832\n",
       "direccion                     1920000\n",
       "ciudad                         527960\n",
       "provincia                      241536\n",
       "antiguedad                    1920000\n",
       "habitaciones                   960000\n",
       "garages                        960000\n",
       "banos                          960000\n",
       "metroscubiertos               1920000\n",
       "metrostotales                 1920000\n",
       "idzona                        1920000\n",
       "lat                           1920000\n",
       "lng                           1920000\n",
       "fecha                         1920000\n",
       "gimnasio                       240000\n",
       "usosmultiples                  240000\n",
       "piscina                        240000\n",
       "escuelascercanas               240000\n",
       "centroscomercialescercanos     240000\n",
       "precio                        1920000\n",
       "dtype: int64"
      ]
     },
     "execution_count": 21,
     "metadata": {},
     "output_type": "execute_result"
    }
   ],
   "source": [
    "df.memory_usage()"
   ]
  },
  {
   "cell_type": "code",
   "execution_count": 30,
   "metadata": {},
   "outputs": [
    {
     "name": "stdout",
     "output_type": "stream",
     "text": [
      "<class 'pandas.core.frame.DataFrame'>\n",
      "RangeIndex: 240000 entries, 0 to 239999\n",
      "Data columns (total 23 columns):\n",
      "id                            240000 non-null int64\n",
      "titulo                        234613 non-null object\n",
      "descripcion                   238381 non-null object\n",
      "tipodepropiedad               239954 non-null category\n",
      "direccion                     186928 non-null object\n",
      "ciudad                        239628 non-null category\n",
      "provincia                     239845 non-null category\n",
      "antiguedad                    196445 non-null float64\n",
      "habitaciones                  240000 non-null int32\n",
      "garages                       240000 non-null int32\n",
      "banos                         240000 non-null int32\n",
      "metroscubiertos               222600 non-null float64\n",
      "metrostotales                 188533 non-null float64\n",
      "idzona                        240000 non-null object\n",
      "lat                           116512 non-null float64\n",
      "lng                           116512 non-null float64\n",
      "fecha                         240000 non-null object\n",
      "gimnasio                      240000 non-null bool\n",
      "usosmultiples                 240000 non-null bool\n",
      "piscina                       240000 non-null bool\n",
      "escuelascercanas              240000 non-null bool\n",
      "centroscomercialescercanos    240000 non-null bool\n",
      "precio                        240000 non-null float64\n",
      "dtypes: bool(5), category(3), float64(6), int32(3), int64(1), object(5)\n",
      "memory usage: 282.3 MB\n"
     ]
    }
   ],
   "source": [
    "df.info(memory_usage='deep')"
   ]
  },
  {
   "cell_type": "code",
   "execution_count": null,
   "metadata": {},
   "outputs": [],
   "source": []
  }
 ],
 "metadata": {
  "kernelspec": {
   "display_name": "Python 3",
   "language": "python",
   "name": "python3"
  },
  "language_info": {
   "codemirror_mode": {
    "name": "ipython",
    "version": 3
   },
   "file_extension": ".py",
   "mimetype": "text/x-python",
   "name": "python",
   "nbconvert_exporter": "python",
   "pygments_lexer": "ipython3",
   "version": "3.7.3"
  }
 },
 "nbformat": 4,
 "nbformat_minor": 4
}
